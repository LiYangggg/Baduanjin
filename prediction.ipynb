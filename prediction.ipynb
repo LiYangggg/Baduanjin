{
 "cells": [
  {
   "cell_type": "code",
   "execution_count": 1,
   "metadata": {},
   "outputs": [],
   "source": [
    "import tensorflow as tf\n",
    "import pandas as pd"
   ]
  },
  {
   "cell_type": "code",
   "execution_count": 2,
   "metadata": {},
   "outputs": [],
   "source": [
    "model = tf.keras.models.load_model(\"saved_model2\")"
   ]
  },
  {
   "cell_type": "code",
   "execution_count": 3,
   "metadata": {},
   "outputs": [],
   "source": [
    "image_data = pd.read_csv('./homeworkdata.csv')\n",
    "filename = image_data.pop('label')\n"
   ]
  },
  {
   "cell_type": "code",
   "execution_count": 4,
   "metadata": {},
   "outputs": [
    {
     "name": "stdout",
     "output_type": "stream",
     "text": [
      "1003/1003 [==============================] - 6s 2ms/step\n"
     ]
    }
   ],
   "source": [
    "images = tf.data.Dataset.from_tensor_slices((image_data)).batch(1)\n",
    "predictions = tf.argmax(model.predict(images), axis=1)"
   ]
  },
  {
   "cell_type": "code",
   "execution_count": 5,
   "metadata": {},
   "outputs": [
    {
     "name": "stdout",
     "output_type": "stream",
     "text": [
      "   1/1003 [..............................] - ETA: 10s"
     ]
    },
    {
     "name": "stdout",
     "output_type": "stream",
     "text": [
      "1003/1003 [==============================] - 2s 2ms/step\n"
     ]
    }
   ],
   "source": [
    "result = tf.argmax(model.predict(images), axis=1)\n",
    "\n",
    "df = pd.DataFrame(\n",
    "    predictions.numpy(),\n",
    "    index=filename,\n",
    "    columns=[\"prediction\"],\n",
    ")\n",
    "df[\"pre_class\"] = df.apply(\n",
    "    lambda row: [f\"pose{i + 1}\" for i in range(8)][row[\"prediction\"]], axis=1\n",
    ")\n",
    "df.to_csv(\"homework.csv\", index_label=\"filename\")"
   ]
  }
 ],
 "metadata": {
  "kernelspec": {
   "display_name": "tf",
   "language": "python",
   "name": "python3"
  },
  "language_info": {
   "codemirror_mode": {
    "name": "ipython",
    "version": 3
   },
   "file_extension": ".py",
   "mimetype": "text/x-python",
   "name": "python",
   "nbconvert_exporter": "python",
   "pygments_lexer": "ipython3",
   "version": "3.10.12"
  },
  "orig_nbformat": 4
 },
 "nbformat": 4,
 "nbformat_minor": 2
}
