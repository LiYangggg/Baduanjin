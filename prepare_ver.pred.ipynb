{
 "cells": [
  {
   "cell_type": "code",
   "execution_count": 1,
   "metadata": {},
   "outputs": [],
   "source": [
    "import tensorflow as tf\n",
    "from glob import glob\n",
    "import json\n",
    "import os.path\n",
    "import numpy as np\n",
    "from PIL import Image\n",
    "import pandas as pd"
   ]
  },
  {
   "cell_type": "code",
   "execution_count": 2,
   "metadata": {},
   "outputs": [],
   "source": [
    "filenames = glob('./test_set_marked/*.json')\n"
   ]
  },
  {
   "cell_type": "code",
   "execution_count": 3,
   "metadata": {},
   "outputs": [],
   "source": [
    "x_train = []\n",
    "labels = []\n",
    "for filename in filenames:\n",
    "    data = json.load(open(filename))\n",
    "    data = data[\"people\"]\n",
    "    picname = filename.replace('_keypoints.json','.jpg')\n",
    "    picname = picname.replace('test_set_marked','test_set')\n",
    "    picdata = Image.open(picname)\n",
    "    w = picdata.width\n",
    "    h = picdata.height\n",
    "    if not data:\n",
    "        x_train.append([0]*50)\n",
    "    else:\n",
    "        people = []\n",
    "        for person in data:\n",
    "            num = person[\"pose_keypoints_2d\"].count(0)\n",
    "            people.append(num)\n",
    "        mainperson = people.index(min(people))\n",
    "        data = data[mainperson][\"pose_keypoints_2d\"]\n",
    "        datas = []\n",
    "        for i in range(0, len(data) // 3):\n",
    "            datas.append((data[3 * i]/w))\n",
    "            datas.append((data[3 * i + 1]/h))\n",
    "        x_train.append(datas)\n",
    "    label = os.path.split(filename)[1]\n",
    "    label = label.replace('_keypoints.json','.jpg')\n",
    "    labels.append(label)\n",
    "    "
   ]
  },
  {
   "cell_type": "code",
   "execution_count": 4,
   "metadata": {},
   "outputs": [],
   "source": [
    "pd.DataFrame(x_train,index=labels).to_csv('homeworkdata.csv',index_label='label')"
   ]
  }
 ],
 "metadata": {
  "kernelspec": {
   "display_name": "tf",
   "language": "python",
   "name": "python3"
  },
  "language_info": {
   "codemirror_mode": {
    "name": "ipython",
    "version": 3
   },
   "file_extension": ".py",
   "mimetype": "text/x-python",
   "name": "python",
   "nbconvert_exporter": "python",
   "pygments_lexer": "ipython3",
   "version": "3.10.12"
  },
  "orig_nbformat": 4
 },
 "nbformat": 4,
 "nbformat_minor": 2
}
