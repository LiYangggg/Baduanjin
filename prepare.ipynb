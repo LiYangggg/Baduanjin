{
 "cells": [
  {
   "cell_type": "code",
   "execution_count": 27,
   "metadata": {},
   "outputs": [],
   "source": [
    "import tensorflow as tf\n",
    "from glob import glob\n",
    "import random\n",
    "import json\n",
    "import os.path\n",
    "import numpy as np\n",
    "from PIL import Image\n",
    "import pandas as pd"
   ]
  },
  {
   "cell_type": "code",
   "execution_count": 21,
   "metadata": {},
   "outputs": [],
   "source": [
    "filenames = glob('./finaltraining/*/*.json')\n",
    "random.shuffle(filenames)"
   ]
  },
  {
   "cell_type": "code",
   "execution_count": 24,
   "metadata": {},
   "outputs": [],
   "source": [
    "x_train = []\n",
    "y_train = []\n",
    "for filename in filenames:\n",
    "    data = json.load(open(filename))\n",
    "    data = data[\"people\"]\n",
    "    picname = filename.replace('_keypoints.json','.jpg')\n",
    "    picname = picname.replace('finaltraining','data')\n",
    "    picdata = Image.open(picname)\n",
    "    w = picdata.width\n",
    "    h = picdata.height\n",
    "    if not data:\n",
    "        continue\n",
    "    people = []\n",
    "    for person in data:\n",
    "        num = person[\"pose_keypoints_2d\"].count(0)\n",
    "        people.append(num)\n",
    "    mainperson = people.index(min(people))\n",
    "    data = data[mainperson][\"pose_keypoints_2d\"]\n",
    "    datas = []\n",
    "    for i in range(0, len(data) // 3):\n",
    "        datas.append((data[3 * i]/w))\n",
    "        datas.append((data[3 * i + 1]/h))\n",
    "    x_train.append(datas)\n",
    "    label = os.path.split(filename)[1]\n",
    "    ans = int(label[4]) - 1\n",
    "    y_train.append(ans)\n"
   ]
  },
  {
   "cell_type": "code",
   "execution_count": 31,
   "metadata": {},
   "outputs": [],
   "source": [
    "pd.DataFrame(x_train,index=y_train).to_csv('trainingdata.csv',index_label='label')"
   ]
  }
 ],
 "metadata": {
  "kernelspec": {
   "display_name": "Python 3",
   "language": "python",
   "name": "python3"
  },
  "language_info": {
   "codemirror_mode": {
    "name": "ipython",
    "version": 3
   },
   "file_extension": ".py",
   "mimetype": "text/x-python",
   "name": "python",
   "nbconvert_exporter": "python",
   "pygments_lexer": "ipython3",
   "version": "3.10.12"
  },
  "orig_nbformat": 4
 },
 "nbformat": 4,
 "nbformat_minor": 2
}
